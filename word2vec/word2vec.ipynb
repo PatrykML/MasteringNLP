{
  "cells": [
    {
      "cell_type": "code",
      "execution_count": 1,
      "metadata": {
        "id": "hTvDVACFoEIr"
      },
      "outputs": [],
      "source": [
        "# import the necessary libraries\n",
        "import torch\n",
        "import nltk\n",
        "try:\n",
        "    import datasets\n",
        "    from unidecode import unidecode\n",
        "except:\n",
        "    !pip install datasets unidecode\n",
        "    import datasets\n",
        "    from unidecode import unidecode\n",
        "\n",
        "from torch import nn"
      ]
    },
    {
      "cell_type": "code",
      "source": [
        "device = \"cuda\" if torch.cuda.is_available() else \"cpu\""
      ],
      "metadata": {
        "id": "73dxPsp2330v"
      },
      "execution_count": 2,
      "outputs": []
    },
    {
      "cell_type": "code",
      "execution_count": 3,
      "metadata": {
        "id": "-V8txjMRoEIs"
      },
      "outputs": [],
      "source": [
        "# load dataset that contains text passages from wikipedia\n",
        "wikipedia_text = datasets.load_dataset(\"wikitext\", \"wikitext-2-raw-v1\", split='train')[\"text\"]\n"
      ]
    },
    {
      "cell_type": "code",
      "source": [
        "import string\n",
        "def create_vocab(dataset):\n",
        "    #nltk.download('punkt')\n",
        "    dataset = \"\".join(dataset)\n",
        "    dataset = dataset.translate(str.maketrans('', '', string.punctuation)).strip()\n",
        "    vocab = nltk.word_tokenize(\"\".join(dataset))\n",
        "    vocab = [i.lower() for i in vocab]\n",
        "    vocab = set(vocab)\n",
        "    print(f\"Vocab size: {len(vocab)}\")\n",
        "    return list(vocab)\n",
        "\n",
        "vocab = create_vocab(wikipedia_text)"
      ],
      "metadata": {
        "colab": {
          "base_uri": "https://localhost:8080/"
        },
        "id": "NQwym2brM_2K",
        "outputId": "d9ff1430-2704-4a5d-c32f-c642284e6392"
      },
      "execution_count": 4,
      "outputs": [
        {
          "output_type": "stream",
          "name": "stdout",
          "text": [
            "Vocab size: 66168\n"
          ]
        }
      ]
    },
    {
      "cell_type": "code",
      "execution_count": 5,
      "metadata": {
        "id": "DeuwXRDKoEIt"
      },
      "outputs": [],
      "source": [
        "# create a mapping between words to integers (for indexing)\n",
        "from collections import defaultdict\n",
        "wtoi = {word: i for i, word in enumerate([\"<UNK>\"] + vocab)}\n",
        "wtoi = defaultdict(int, wtoi)\n",
        "\n",
        "# ... indexes to words\n",
        "itow = {i: word for i, word in enumerate(wtoi)}\n",
        "itow = defaultdict(lambda: \"<UNK>\", itow)"
      ]
    },
    {
      "cell_type": "code",
      "execution_count": 34,
      "metadata": {
        "id": "9YmJ3yftoEIt"
      },
      "outputs": [],
      "source": [
        "class SkipGram(nn.Module):\n",
        "    def __init__(self, vocab_size, embed_dim=128):\n",
        "        super().__init__()\n",
        "        self.center_embeds = nn.Embedding(num_embeddings=vocab_size, embedding_dim=embed_dim)#, dtype=torch.float16)\n",
        "        self.context_embeds = nn.Embedding(num_embeddings=vocab_size, embedding_dim=embed_dim)#, dtype=torch.float16)\n",
        "\n",
        "\n",
        "    def forward(self, x):\n",
        "        center_word = self.center_embeds(x)\n",
        "\n",
        "        scores = torch.matmul(center_word, self.context_embeds.weight.t())\n",
        "\n",
        "        return scores\n",
        "\n",
        "    def get_N_closest(self, x, N=5):\n",
        "        # get word vector\n",
        "        x = self.center_embeds(x)\n",
        "        # calculate cosine similarity between x and context vector\n",
        "        cos_sim = nn.CosineSimilarity(dim=-1)\n",
        "        similarities = cos_sim(x, self.context_embeds.weight)\n",
        "        _, indices = torch.topk(similarities, N)\n",
        "        return indices\n"
      ]
    },
    {
      "cell_type": "code",
      "source": [
        "from torch.utils.data import Dataset\n",
        "\n",
        "class SkipGramDataset(Dataset):\n",
        "    def __init__(self, data, window=2):\n",
        "        super().__init__()\n",
        "        self.dataset = []\n",
        "        self.window = window\n",
        "        self.dataset = self.create_dataset(data)\n",
        "\n",
        "    def create_dataset(self, data):\n",
        "        stopwords = nltk.corpus.stopwords.words('english') + [\"=\", \":\", \",\", \"(\", \")\", \"{\", \"}\", \"[\", \"]\"]\n",
        "        window = self.window\n",
        "        dataset = []\n",
        "        for i in range(window, len(data)-window):\n",
        "            center_word = data[i]\n",
        "\n",
        "            if center_word in stopwords:\n",
        "                continue\n",
        "            for j in range(i-window, i+window+1):\n",
        "                if j == i:\n",
        "                    continue\n",
        "                context_word = data[j]\n",
        "                if context_word in stopwords:\n",
        "                    continue\n",
        "                dataset.append((context_word.lower(), center_word.lower()))\n",
        "                #print(f\"({context_word}, {center_word})\")\n",
        "        return dataset\n",
        "\n",
        "corpus_words = (\"\".join(wikipedia_text)).translate(str.maketrans('', '', string.punctuation)).strip()\n",
        "dataset = SkipGramDataset(window=2, data=corpus_words.split()[:10_000])\n"
      ],
      "metadata": {
        "id": "eUa52-3KJ-ZY"
      },
      "execution_count": 7,
      "outputs": []
    },
    {
      "cell_type": "code",
      "source": [
        "dataset.dataset[:10], len(dataset.dataset)"
      ],
      "metadata": {
        "colab": {
          "base_uri": "https://localhost:8080/"
        },
        "id": "Zk-rjl4Dfc4W",
        "outputId": "e1179855-5219-494b-8183-2accd0f38f9f"
      },
      "execution_count": 8,
      "outputs": [
        {
          "output_type": "execute_result",
          "data": {
            "text/plain": [
              "([('valkyria', 'iii'),\n",
              "  ('chronicles', 'iii'),\n",
              "  ('senjō', 'iii'),\n",
              "  ('chronicles', 'senjō'),\n",
              "  ('iii', 'senjō'),\n",
              "  ('valkyria', 'senjō'),\n",
              "  ('senjō', 'valkyria'),\n",
              "  ('3', 'valkyria'),\n",
              "  ('unrecorded', 'valkyria'),\n",
              "  ('valkyria', '3')],\n",
              " 15417)"
            ]
          },
          "metadata": {},
          "execution_count": 8
        }
      ]
    },
    {
      "cell_type": "code",
      "source": [
        "w2v = SkipGram(len(vocab)).to(device)\n",
        "optimizer = torch.optim.Adam(w2v.parameters(), lr=1e-2)\n",
        "loss_fn = nn.CrossEntropyLoss()"
      ],
      "metadata": {
        "id": "e8XC39S8SPLy"
      },
      "execution_count": 35,
      "outputs": []
    },
    {
      "cell_type": "code",
      "source": [
        "from tqdm import tqdm\n",
        "EPOCHS=20\n",
        "total_losses = []\n",
        "data_size = 7500\n",
        "\n",
        "for epoch in tqdm(range(EPOCHS)):\n",
        "    epoch_loss = []\n",
        "    for context, center in dataset.dataset[:data_size]:\n",
        "        context_idx = torch.tensor([wtoi[context]]).to(device)\n",
        "        center_idx = torch.tensor([wtoi[center]]).to(device)\n",
        "\n",
        "        x = w2v(center_idx)\n",
        "        loss = loss_fn(x, context_idx)\n",
        "        optimizer.zero_grad()\n",
        "        loss.backward()\n",
        "        optimizer.step()\n",
        "        epoch_loss.append(loss)\n",
        "    epoch_loss = float(sum(epoch_loss)/len(epoch_loss))\n",
        "    print(f\"Epoch loss: {epoch_loss:.3f}\")\n",
        "    total_losses.append(epoch_loss)"
      ],
      "metadata": {
        "colab": {
          "base_uri": "https://localhost:8080/"
        },
        "id": "Gz7_ybV2LlXr",
        "outputId": "7a6c9acc-a20a-4931-989b-3ff10187f139"
      },
      "execution_count": 36,
      "outputs": [
        {
          "output_type": "stream",
          "name": "stderr",
          "text": [
            "  5%|▌         | 1/20 [00:52<16:31, 52.20s/it]"
          ]
        },
        {
          "output_type": "stream",
          "name": "stdout",
          "text": [
            "Epoch loss: 0.389\n"
          ]
        },
        {
          "output_type": "stream",
          "name": "stderr",
          "text": [
            "\r 10%|█         | 2/20 [01:43<15:27, 51.55s/it]"
          ]
        },
        {
          "output_type": "stream",
          "name": "stdout",
          "text": [
            "Epoch loss: 0.212\n"
          ]
        },
        {
          "output_type": "stream",
          "name": "stderr",
          "text": [
            "\r 15%|█▌        | 3/20 [02:33<14:27, 51.04s/it]"
          ]
        },
        {
          "output_type": "stream",
          "name": "stdout",
          "text": [
            "Epoch loss: 0.209\n"
          ]
        },
        {
          "output_type": "stream",
          "name": "stderr",
          "text": [
            "\r 20%|██        | 4/20 [03:24<13:31, 50.75s/it]"
          ]
        },
        {
          "output_type": "stream",
          "name": "stdout",
          "text": [
            "Epoch loss: 0.181\n"
          ]
        },
        {
          "output_type": "stream",
          "name": "stderr",
          "text": [
            "\r 25%|██▌       | 5/20 [04:14<12:39, 50.64s/it]"
          ]
        },
        {
          "output_type": "stream",
          "name": "stdout",
          "text": [
            "Epoch loss: 0.155\n"
          ]
        },
        {
          "output_type": "stream",
          "name": "stderr",
          "text": [
            "\r 30%|███       | 6/20 [05:04<11:47, 50.54s/it]"
          ]
        },
        {
          "output_type": "stream",
          "name": "stdout",
          "text": [
            "Epoch loss: 0.139\n"
          ]
        },
        {
          "output_type": "stream",
          "name": "stderr",
          "text": [
            "\r 35%|███▌      | 7/20 [05:56<11:03, 51.01s/it]"
          ]
        },
        {
          "output_type": "stream",
          "name": "stdout",
          "text": [
            "Epoch loss: 0.125\n"
          ]
        },
        {
          "output_type": "stream",
          "name": "stderr",
          "text": [
            "\r 40%|████      | 8/20 [06:47<10:09, 50.76s/it]"
          ]
        },
        {
          "output_type": "stream",
          "name": "stdout",
          "text": [
            "Epoch loss: 0.114\n"
          ]
        },
        {
          "output_type": "stream",
          "name": "stderr",
          "text": [
            "\r 45%|████▌     | 9/20 [07:37<09:16, 50.60s/it]"
          ]
        },
        {
          "output_type": "stream",
          "name": "stdout",
          "text": [
            "Epoch loss: 0.108\n"
          ]
        },
        {
          "output_type": "stream",
          "name": "stderr",
          "text": [
            "\r 50%|█████     | 10/20 [08:27<08:24, 50.50s/it]"
          ]
        },
        {
          "output_type": "stream",
          "name": "stdout",
          "text": [
            "Epoch loss: 0.103\n"
          ]
        },
        {
          "output_type": "stream",
          "name": "stderr",
          "text": [
            "\r 55%|█████▌    | 11/20 [09:17<07:33, 50.43s/it]"
          ]
        },
        {
          "output_type": "stream",
          "name": "stdout",
          "text": [
            "Epoch loss: 0.098\n"
          ]
        },
        {
          "output_type": "stream",
          "name": "stderr",
          "text": [
            "\r 60%|██████    | 12/20 [10:08<06:42, 50.36s/it]"
          ]
        },
        {
          "output_type": "stream",
          "name": "stdout",
          "text": [
            "Epoch loss: 0.096\n"
          ]
        },
        {
          "output_type": "stream",
          "name": "stderr",
          "text": [
            "\r 65%|██████▌   | 13/20 [10:58<05:52, 50.43s/it]"
          ]
        },
        {
          "output_type": "stream",
          "name": "stdout",
          "text": [
            "Epoch loss: 0.093\n"
          ]
        },
        {
          "output_type": "stream",
          "name": "stderr",
          "text": [
            "\r 70%|███████   | 14/20 [11:48<05:02, 50.38s/it]"
          ]
        },
        {
          "output_type": "stream",
          "name": "stdout",
          "text": [
            "Epoch loss: 0.091\n"
          ]
        },
        {
          "output_type": "stream",
          "name": "stderr",
          "text": [
            "\r 75%|███████▌  | 15/20 [12:39<04:11, 50.33s/it]"
          ]
        },
        {
          "output_type": "stream",
          "name": "stdout",
          "text": [
            "Epoch loss: 0.090\n"
          ]
        },
        {
          "output_type": "stream",
          "name": "stderr",
          "text": [
            "\r 80%|████████  | 16/20 [13:29<03:21, 50.30s/it]"
          ]
        },
        {
          "output_type": "stream",
          "name": "stdout",
          "text": [
            "Epoch loss: 0.090\n"
          ]
        },
        {
          "output_type": "stream",
          "name": "stderr",
          "text": [
            "\r 85%|████████▌ | 17/20 [14:19<02:31, 50.40s/it]"
          ]
        },
        {
          "output_type": "stream",
          "name": "stdout",
          "text": [
            "Epoch loss: 0.089\n"
          ]
        },
        {
          "output_type": "stream",
          "name": "stderr",
          "text": [
            "\r 90%|█████████ | 18/20 [15:10<01:40, 50.36s/it]"
          ]
        },
        {
          "output_type": "stream",
          "name": "stdout",
          "text": [
            "Epoch loss: 0.088\n"
          ]
        },
        {
          "output_type": "stream",
          "name": "stderr",
          "text": [
            "\r 95%|█████████▌| 19/20 [16:00<00:50, 50.34s/it]"
          ]
        },
        {
          "output_type": "stream",
          "name": "stdout",
          "text": [
            "Epoch loss: 0.087\n"
          ]
        },
        {
          "output_type": "stream",
          "name": "stderr",
          "text": [
            "100%|██████████| 20/20 [16:50<00:00, 50.54s/it]"
          ]
        },
        {
          "output_type": "stream",
          "name": "stdout",
          "text": [
            "Epoch loss: 0.087\n"
          ]
        },
        {
          "output_type": "stream",
          "name": "stderr",
          "text": [
            "\n"
          ]
        }
      ]
    },
    {
      "cell_type": "code",
      "source": [
        "def predictions_to_words(xz):\n",
        "    for i in xz:\n",
        "        idx = i.item()\n",
        "        print(itow[idx])\n",
        "\n",
        "center_idx = torch.tensor([wtoi[\"itsuka\"]]).to(device)\n",
        "predictions_to_words(w2v.get_N_closest(center_idx))"
      ],
      "metadata": {
        "colab": {
          "base_uri": "https://localhost:8080/"
        },
        "id": "_yEj51I1Qot6",
        "outputId": "15703122-7fc6-4972-9e19-f0a6e59960a6"
      },
      "execution_count": 48,
      "outputs": [
        {
          "output_type": "stream",
          "name": "stdout",
          "text": [
            "saku\n",
            "itsuka\n",
            "hikari\n",
            "various\n",
            "will\n"
          ]
        }
      ]
    },
    {
      "cell_type": "code",
      "source": [
        "epoch_loss"
      ],
      "metadata": {
        "colab": {
          "base_uri": "https://localhost:8080/"
        },
        "id": "MhyQM7GS8WaQ",
        "outputId": "43e5c613-9db3-4810-d9ef-213153dccb5e"
      },
      "execution_count": 39,
      "outputs": [
        {
          "output_type": "execute_result",
          "data": {
            "text/plain": [
              "0.08744579609931351"
            ]
          },
          "metadata": {},
          "execution_count": 39
        }
      ]
    },
    {
      "cell_type": "code",
      "source": [
        "import matplotlib.pyplot as plt\n",
        "\n",
        "plt.plot(range(len(total_losses)), total_losses)\n",
        "plt.xlabel(\"Iters\")\n",
        "plt.ylabel(\"Loss\")\n",
        "plt.show()"
      ],
      "metadata": {
        "colab": {
          "base_uri": "https://localhost:8080/",
          "height": 451
        },
        "id": "40z5cRh-5313",
        "outputId": "8f00940b-5dd4-497a-b654-5d5d12dbec61"
      },
      "execution_count": 43,
      "outputs": [
        {
          "output_type": "display_data",
          "data": {
            "text/plain": [
              "<Figure size 640x480 with 1 Axes>"
            ],
            "image/png": "[encoded data removed]"
          },
          "metadata": {}
        }
      ]
    }
  ],
  "metadata": {
    "accelerator": "GPU",
    "colab": {
      "provenance": []
    },
    "kernelspec": {
      "display_name": "Python 3",
      "name": "python3"
    },
    "language_info": {
      "codemirror_mode": {
        "name": "ipython",
        "version": 3
      },
      "file_extension": ".py",
      "mimetype": "text/x-python",
      "name": "python",
      "nbconvert_exporter": "python",
      "pygments_lexer": "ipython3",
      "version": "3.11.2"
    }
  },
  "nbformat": 4,
  "nbformat_minor": 0
}