{
  "cells": [
    {
      "cell_type": "code",
      "execution_count": 1,
      "metadata": {
        "id": "hTvDVACFoEIr"
      },
      "outputs": [],
      "source": [
        "# import the necessary libraries\n",
        "import torch\n",
        "import nltk\n",
        "import datasets\n",
        "from torch import nn"
      ]
    },
    {
      "cell_type": "code",
      "execution_count": 2,
      "metadata": {
        "id": "73dxPsp2330v"
      },
      "outputs": [],
      "source": [
        "device = \"cuda\" if torch.cuda.is_available() else \"cpu\""
      ]
    },
    {
      "cell_type": "code",
      "execution_count": 3,
      "metadata": {
        "id": "-V8txjMRoEIs"
      },
      "outputs": [],
      "source": [
        "# load dataset \n",
        "wikipedia_text = datasets.load_dataset(\"wikitext\", \"wikitext-2-raw-v1\", split='train')[\"text\"]\n"
      ]
    },
    {
      "cell_type": "code",
      "execution_count": 4,
      "metadata": {
        "colab": {
          "base_uri": "https://localhost:8080/"
        },
        "id": "NQwym2brM_2K",
        "outputId": "d9ff1430-2704-4a5d-c32f-c642284e6392"
      },
      "outputs": [
        {
          "name": "stdout",
          "output_type": "stream",
          "text": [
            "Vocab size: 66168\n"
          ]
        }
      ],
      "source": [
        "import string\n",
        "def create_vocab(dataset):\n",
        "    #nltk.download('punkt')\n",
        "    # create one big string \n",
        "    dataset = \"\".join(dataset)\n",
        "    # remove punctuation, whitespaces and convert to lowcase\n",
        "    dataset = dataset.translate(str.maketrans('', '', string.punctuation)).strip().lower()\n",
        "    # tokenize to words \n",
        "    vocab = nltk.word_tokenize(\"\".join(dataset))\n",
        "    # remove repeated words\n",
        "    vocab = set(vocab)\n",
        "    print(f\"Vocab size: {len(vocab)}\")\n",
        "    return list(vocab)\n",
        "\n",
        "vocab = create_vocab(wikipedia_text)"
      ]
    },
    {
      "cell_type": "code",
      "execution_count": 5,
      "metadata": {
        "id": "DeuwXRDKoEIt"
      },
      "outputs": [],
      "source": [
        "from collections import defaultdict\n",
        "\n",
        "# create a mapping between words to integers (for indexing)\n",
        "wtoi = {word: i for i, word in enumerate([\"<UNK>\"] + vocab)}\n",
        "wtoi = defaultdict(int, wtoi)\n",
        "\n",
        "# ... integers to words\n",
        "itow = {i: word for i, word in enumerate(wtoi)}\n",
        "itow = defaultdict(lambda: \"<UNK>\", itow)"
      ]
    },
    {
      "cell_type": "code",
      "execution_count": 6,
      "metadata": {
        "id": "9YmJ3yftoEIt"
      },
      "outputs": [],
      "source": [
        "class SkipGram(nn.Module):\n",
        "    \"\"\"Creates two embedding matrices. \n",
        "\n",
        "    Implements skip-gram model of word2vec. \n",
        "\n",
        "    Args:\n",
        "        vocab_size (int): Amount of different words in vocabulary, corresponds amount of embedding vectors\n",
        "        embed_dim (int): Dimension of embedding vectors.\n",
        "    \"\"\"\n",
        "    def __init__(self, vocab_size, embed_dim=128):\n",
        "        \n",
        "        super().__init__()\n",
        "        self.center_embeds = nn.Embedding(num_embeddings=vocab_size, embedding_dim=embed_dim)\n",
        "        self.context_embeds = nn.Embedding(num_embeddings=vocab_size, embedding_dim=embed_dim)\n",
        "\n",
        "\n",
        "    def forward(self, x):\n",
        "        center_word = self.center_embeds(x)\n",
        "\n",
        "        scores = torch.matmul(center_word, self.context_embeds.weight.t())\n",
        "\n",
        "        return scores\n",
        "\n",
        "    def get_N_closest(self, x, N=5):\n",
        "        \"\"\"\n",
        "        Turns x intro embedding, then through cosine similarity selects N most similar center vector embeddings.\n",
        "        Args:\n",
        "            x (torch.tensor): tensor with a single integer represeting X's index in vocabulary\n",
        "            N (int): Amount of closest word indices to X.\n",
        "        \n",
        "        Returns:\n",
        "            List of tensor indices of the closest words to X\n",
        "\n",
        "        Example:\n",
        "        center_idx = torch.tensor([wtoi[\"valkyria\"]]).to(device)\n",
        "        indices = w2v.get_N_closest(center_idx))\n",
        "        print(itow[idx.item()] for idx in indices)\n",
        "        \"\"\"\n",
        "        \n",
        "        # get word vector\n",
        "        x = self.center_embeds(x)\n",
        "        # calculate cosine similarity between x and center vector\n",
        "        cos_sim = nn.CosineSimilarity(dim=-1)\n",
        "        similarities = cos_sim(x, self.center_embeds.weight)\n",
        "        #similarities = cos_sim(x, self.context_embeds.weight)\n",
        "        _, indices = torch.topk(similarities, N)\n",
        "        return indices\n"
      ]
    },
    {
      "cell_type": "code",
      "execution_count": 7,
      "metadata": {},
      "outputs": [],
      "source": [
        "corpus_words = (\"\".join(wikipedia_text)).translate(str.maketrans('', '', string.punctuation)).lower().strip()"
      ]
    },
    {
      "cell_type": "code",
      "execution_count": 8,
      "metadata": {
        "id": "eUa52-3KJ-ZY"
      },
      "outputs": [],
      "source": [
        "from torch.utils.data import DataLoader\n",
        "\n",
        "class SkipGramDataset():\n",
        "    \"\"\"Creates dataset for skipgram model.\n",
        "\n",
        "    For input [\"cat\", \"on\", \"the\", \"mat\"] will create dataset (cat, on), (on, cat), (on, the), (the, on), (the, mat), (mat, the) if window is set to 1.\n",
        "    Important note, created datasets won't contain words but integers correspoding to their indices in the vocabulary.\n",
        "    \n",
        "    Args:\n",
        "        data (list): List of strings used to create the dataset.\n",
        "        window (int): Lenght of context.\n",
        "    \"\"\"\n",
        "    def __init__(self, data, window=2):\n",
        "        super().__init__()\n",
        "        self.dataset = []\n",
        "        self.window = window\n",
        "        self.X, self.Y = self.create_dataset(data)\n",
        "        self.X, self.Y = self.X.to(device), self.Y.to(device) \n",
        "\n",
        "    def create_dataset(self, data):\n",
        "        stopwords = nltk.corpus.stopwords.words('english') + [\"=\", \":\", \",\", \"(\", \")\", \"{\", \"}\", \"[\", \"]\"]\n",
        "        window = self.window\n",
        "        xs, ys = [], []\n",
        "        for i in range(0, len(data)):\n",
        "            if data[i] in stopwords:\n",
        "                continue\n",
        "            center_word = wtoi[data[i]]\n",
        "            for j in range(i-window, i+window+1):\n",
        "                if j == i or j<0 or j>len(data)-1 or data[j] in stopwords:\n",
        "                    continue\n",
        "                context_word = wtoi[data[j]]\n",
        "\n",
        "                xs.append(center_word)\n",
        "                ys.append(context_word)\n",
        "        return torch.tensor(xs), torch.tensor(ys)\n",
        "\n",
        "    def __getitem__(self, val):\n",
        "        if type(val) is slice:\n",
        "            return list(zip(self.X[val], self.Y[val]))\n",
        "        return (self.X[val], self.Y[val])\n",
        "\n",
        "    def __len__(self):\n",
        "        lenX = len(self.X)\n",
        "        assert lenX == len(self.Y)\n",
        "        return lenX\n",
        "\n",
        "\n",
        "dataset = SkipGramDataset(window=2, data=corpus_words.split())\n",
        "dl = DataLoader(dataset, batch_size=4096, shuffle=True)"
      ]
    },
    {
      "cell_type": "code",
      "execution_count": 9,
      "metadata": {
        "id": "e8XC39S8SPLy"
      },
      "outputs": [],
      "source": [
        "w2v = SkipGram(len(wtoi)).to(device)\n",
        "optimizer = torch.optim.Adam(w2v.parameters(), lr=3e-4)\n",
        "loss_fn = nn.CrossEntropyLoss()"
      ]
    },
    {
      "cell_type": "code",
      "execution_count": null,
      "metadata": {
        "colab": {
          "base_uri": "https://localhost:8080/"
        },
        "id": "Gz7_ybV2LlXr",
        "outputId": "7a6c9acc-a20a-4931-989b-3ff10187f139"
      },
      "outputs": [],
      "source": [
        "from tqdm import tqdm\n",
        "EPOCHS=100\n",
        "total_losses = []\n",
        "\n",
        "for epoch in tqdm(range(EPOCHS)):\n",
        "    epoch_loss = []\n",
        "    for center, context in dl:\n",
        "        x = w2v(center)\n",
        "\n",
        "        loss = loss_fn(x, context)\n",
        "        \n",
        "        optimizer.zero_grad()\n",
        "        loss.backward()\n",
        "        optimizer.step()\n",
        "        \n",
        "        epoch_loss.append(loss)\n",
        "    epoch_loss = sum(epoch_loss)/len(epoch_loss)\n",
        "    total_losses.append(epoch_loss.item())"
      ]
    },
    {
      "cell_type": "code",
      "execution_count": 24,
      "metadata": {
        "colab": {
          "base_uri": "https://localhost:8080/"
        },
        "id": "_yEj51I1Qot6",
        "outputId": "15703122-7fc6-4972-9e19-f0a6e59960a6"
      },
      "outputs": [
        {
          "name": "stdout",
          "output_type": "stream",
          "text": [
            "japan\n",
            "2011\n",
            "australia\n",
            "2009\n",
            "17\n"
          ]
        }
      ],
      "source": [
        "def predictions_to_words(xz):\n",
        "    for i in xz:\n",
        "        idx = i.item()\n",
        "        print(itow[idx])\n",
        "\n",
        "center_idx = torch.tensor([wtoi[\"japan\"]]).to(device)\n",
        "predictions_to_words(w2v.get_N_closest(center_idx))"
      ]
    },
    {
      "cell_type": "code",
      "execution_count": 28,
      "metadata": {
        "colab": {
          "base_uri": "https://localhost:8080/",
          "height": 451
        },
        "id": "40z5cRh-5313",
        "outputId": "8f00940b-5dd4-497a-b654-5d5d12dbec61"
      },
      "outputs": [
        {
          "data": {
            "image/png": "[encoded data removed]",
            "text/plain": [
              "<Figure size 640x480 with 1 Axes>"
            ]
          },
          "metadata": {},
          "output_type": "display_data"
        }
      ],
      "source": [
        "import matplotlib.pyplot as plt\n",
        "\n",
        "plt.plot(range(len(total_losses)), total_losses)\n",
        "plt.ylabel(\"Loss\")\n",
        "plt.xlabel(\"Epochs\")\n",
        "plt.show()"
      ]
    }
  ],
  "metadata": {
    "accelerator": "GPU",
    "colab": {
      "provenance": []
    },
    "kernelspec": {
      "display_name": "Python 3 (ipykernel)",
      "language": "python",
      "name": "python3"
    },
    "language_info": {
      "codemirror_mode": {
        "name": "ipython",
        "version": 3
      },
      "file_extension": ".py",
      "mimetype": "text/x-python",
      "name": "python",
      "nbconvert_exporter": "python",
      "pygments_lexer": "ipython3",
      "version": "3.11.2"
    }
  },
  "nbformat": 4,
  "nbformat_minor": 0
}
